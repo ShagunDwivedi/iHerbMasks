{
 "cells": [
  {
   "cell_type": "code",
   "execution_count": 1,
   "metadata": {},
   "outputs": [],
   "source": [
    "import pandas as pd\n",
    "import numpy as np\n",
    "import matplotlib.pyplot as plt\n",
    "import plotly.express as px\n",
    "import plotly.io as pio"
   ]
  },
  {
   "cell_type": "code",
   "execution_count": 2,
   "metadata": {},
   "outputs": [
    {
     "data": {
      "text/html": [
       "<div>\n",
       "<style scoped>\n",
       "    .dataframe tbody tr th:only-of-type {\n",
       "        vertical-align: middle;\n",
       "    }\n",
       "\n",
       "    .dataframe tbody tr th {\n",
       "        vertical-align: top;\n",
       "    }\n",
       "\n",
       "    .dataframe thead th {\n",
       "        text-align: right;\n",
       "    }\n",
       "</style>\n",
       "<table border=\"1\" class=\"dataframe\">\n",
       "  <thead>\n",
       "    <tr style=\"text-align: right;\">\n",
       "      <th></th>\n",
       "      <th>product_id</th>\n",
       "      <th>product_name</th>\n",
       "      <th>product_model</th>\n",
       "      <th>product_features</th>\n",
       "      <th>prod_features1</th>\n",
       "      <th>prod_features2</th>\n",
       "      <th>prod_features3</th>\n",
       "      <th>product_price</th>\n",
       "      <th>price_currency</th>\n",
       "      <th>product_availability</th>\n",
       "      <th>product_url</th>\n",
       "      <th>source_url</th>\n",
       "    </tr>\n",
       "  </thead>\n",
       "  <tbody>\n",
       "    <tr>\n",
       "      <th>0</th>\n",
       "      <td>103205</td>\n",
       "      <td>Dr. Puri</td>\n",
       "      <td>Disposable KF94 ( N95 / KN95/ FFP2 ) Mask</td>\n",
       "      <td>20 Masks, ,</td>\n",
       "      <td>20 Masks</td>\n",
       "      <td>NaN</td>\n",
       "      <td>NaN</td>\n",
       "      <td>2.95</td>\n",
       "      <td>AUD</td>\n",
       "      <td>http://schema.org/InStock</td>\n",
       "      <td>https://au.iherb.com/pr/Hwipure-Disposable-KF9...</td>\n",
       "      <td>https://au.iherb.com/c/protective-face-masks</td>\n",
       "    </tr>\n",
       "    <tr>\n",
       "      <th>1</th>\n",
       "      <td>101774</td>\n",
       "      <td>HIGUARD</td>\n",
       "      <td>Disposable KF94 ( N95 / KN95/ FFP2 ) Mask</td>\n",
       "      <td>1 Mask, ,</td>\n",
       "      <td>1 Mask</td>\n",
       "      <td>NaN</td>\n",
       "      <td>NaN</td>\n",
       "      <td>2.95</td>\n",
       "      <td>AUD</td>\n",
       "      <td>http://schema.org/InStock</td>\n",
       "      <td>https://au.iherb.com/pr/HIGUARD-Disposable-KF9...</td>\n",
       "      <td>https://au.iherb.com/c/protective-face-masks</td>\n",
       "    </tr>\n",
       "    <tr>\n",
       "      <th>2</th>\n",
       "      <td>102455</td>\n",
       "      <td>Now Foods</td>\n",
       "      <td>Face Mask</td>\n",
       "      <td>Grey, S-M, 1 Mask</td>\n",
       "      <td>Grey</td>\n",
       "      <td>S-M</td>\n",
       "      <td>1 Mask</td>\n",
       "      <td>2.95</td>\n",
       "      <td>AUD</td>\n",
       "      <td>http://schema.org/InStock</td>\n",
       "      <td>https://au.iherb.com/pr/Now-Foods-Face-Mask-Gr...</td>\n",
       "      <td>https://au.iherb.com/c/protective-face-masks</td>\n",
       "    </tr>\n",
       "    <tr>\n",
       "      <th>3</th>\n",
       "      <td>100840</td>\n",
       "      <td>YJ Corporation</td>\n",
       "      <td>Disposable KF94 ( N95 / KN95/ FFP2 ) Mask</td>\n",
       "      <td>for Kids, 1 Mask,</td>\n",
       "      <td>for Kids</td>\n",
       "      <td>1 Mask</td>\n",
       "      <td>NaN</td>\n",
       "      <td>3.93</td>\n",
       "      <td>AUD</td>\n",
       "      <td>http://schema.org/InStock</td>\n",
       "      <td>https://au.iherb.com/pr/YJ-Corporation-Disposa...</td>\n",
       "      <td>https://au.iherb.com/c/protective-face-masks</td>\n",
       "    </tr>\n",
       "    <tr>\n",
       "      <th>4</th>\n",
       "      <td>100839</td>\n",
       "      <td>One Fine Day</td>\n",
       "      <td>Disposable KF94 ( N95 / KN95/ FFP2 ) Mask</td>\n",
       "      <td>1 Mask, ,</td>\n",
       "      <td>1 Mask</td>\n",
       "      <td>NaN</td>\n",
       "      <td>NaN</td>\n",
       "      <td>4.49</td>\n",
       "      <td>AUD</td>\n",
       "      <td>http://schema.org/InStock</td>\n",
       "      <td>https://au.iherb.com/pr/One-Fine-Day-Disposabl...</td>\n",
       "      <td>https://au.iherb.com/c/protective-face-masks</td>\n",
       "    </tr>\n",
       "  </tbody>\n",
       "</table>\n",
       "</div>"
      ],
      "text/plain": [
       "   product_id    product_name                              product_model  \\\n",
       "0      103205        Dr. Puri  Disposable KF94 ( N95 / KN95/ FFP2 ) Mask   \n",
       "1      101774         HIGUARD  Disposable KF94 ( N95 / KN95/ FFP2 ) Mask   \n",
       "2      102455       Now Foods                                  Face Mask   \n",
       "3      100840  YJ Corporation  Disposable KF94 ( N95 / KN95/ FFP2 ) Mask   \n",
       "4      100839    One Fine Day  Disposable KF94 ( N95 / KN95/ FFP2 ) Mask   \n",
       "\n",
       "     product_features prod_features1 prod_features2 prod_features3  \\\n",
       "0        20 Masks, ,        20 Masks            NaN            NaN   \n",
       "1          1 Mask, ,          1 Mask            NaN            NaN   \n",
       "2   Grey, S-M, 1 Mask           Grey            S-M         1 Mask   \n",
       "3  for Kids, 1 Mask,        for Kids         1 Mask            NaN   \n",
       "4          1 Mask, ,          1 Mask            NaN            NaN   \n",
       "\n",
       "   product_price price_currency       product_availability  \\\n",
       "0           2.95            AUD  http://schema.org/InStock   \n",
       "1           2.95            AUD  http://schema.org/InStock   \n",
       "2           2.95            AUD  http://schema.org/InStock   \n",
       "3           3.93            AUD  http://schema.org/InStock   \n",
       "4           4.49            AUD  http://schema.org/InStock   \n",
       "\n",
       "                                         product_url  \\\n",
       "0  https://au.iherb.com/pr/Hwipure-Disposable-KF9...   \n",
       "1  https://au.iherb.com/pr/HIGUARD-Disposable-KF9...   \n",
       "2  https://au.iherb.com/pr/Now-Foods-Face-Mask-Gr...   \n",
       "3  https://au.iherb.com/pr/YJ-Corporation-Disposa...   \n",
       "4  https://au.iherb.com/pr/One-Fine-Day-Disposabl...   \n",
       "\n",
       "                                     source_url  \n",
       "0  https://au.iherb.com/c/protective-face-masks  \n",
       "1  https://au.iherb.com/c/protective-face-masks  \n",
       "2  https://au.iherb.com/c/protective-face-masks  \n",
       "3  https://au.iherb.com/c/protective-face-masks  \n",
       "4  https://au.iherb.com/c/protective-face-masks  "
      ]
     },
     "execution_count": 2,
     "metadata": {},
     "output_type": "execute_result"
    }
   ],
   "source": [
    "prod_df = pd.read_table('./data/products.tsv')\n",
    "rev_df = pd.read_table('./data/reviews.tsv')\n",
    "prod_df.loc[16,'product_model'] = '100% Cotton Reuseable Face Masks'\n",
    "prod_df.head()"
   ]
  },
  {
   "cell_type": "code",
   "execution_count": 3,
   "metadata": {},
   "outputs": [
    {
     "data": {
      "text/html": [
       "<div>\n",
       "<style scoped>\n",
       "    .dataframe tbody tr th:only-of-type {\n",
       "        vertical-align: middle;\n",
       "    }\n",
       "\n",
       "    .dataframe tbody tr th {\n",
       "        vertical-align: top;\n",
       "    }\n",
       "\n",
       "    .dataframe thead th {\n",
       "        text-align: right;\n",
       "    }\n",
       "</style>\n",
       "<table border=\"1\" class=\"dataframe\">\n",
       "  <thead>\n",
       "    <tr style=\"text-align: right;\">\n",
       "      <th></th>\n",
       "      <th>abuseCount</th>\n",
       "      <th>customerNickname</th>\n",
       "      <th>helpfulNo</th>\n",
       "      <th>helpfulYes</th>\n",
       "      <th>id</th>\n",
       "      <th>imagesCount</th>\n",
       "      <th>languageCode</th>\n",
       "      <th>postedDate</th>\n",
       "      <th>productId</th>\n",
       "      <th>profileInfo.ugcSummary.answerCount</th>\n",
       "      <th>...</th>\n",
       "      <th>product_model</th>\n",
       "      <th>product_features</th>\n",
       "      <th>prod_features1</th>\n",
       "      <th>prod_features2</th>\n",
       "      <th>prod_features3</th>\n",
       "      <th>product_price</th>\n",
       "      <th>price_currency</th>\n",
       "      <th>product_availability</th>\n",
       "      <th>product_url</th>\n",
       "      <th>source_url</th>\n",
       "    </tr>\n",
       "  </thead>\n",
       "  <tbody>\n",
       "    <tr>\n",
       "      <th>0</th>\n",
       "      <td>0</td>\n",
       "      <td>iHerb Customer</td>\n",
       "      <td>0</td>\n",
       "      <td>0</td>\n",
       "      <td>c2d6b926-78b6-4ca3-90d3-23b96c0c9ac7</td>\n",
       "      <td>0</td>\n",
       "      <td>en-US</td>\n",
       "      <td>2021-02-06T12:46:05.712Z</td>\n",
       "      <td>99829</td>\n",
       "      <td>0.0</td>\n",
       "      <td>...</td>\n",
       "      <td>Nano Reusable Face Protection Mask</td>\n",
       "      <td>Large, 1 Mask,</td>\n",
       "      <td>Large</td>\n",
       "      <td>1 Mask</td>\n",
       "      <td>NaN</td>\n",
       "      <td>22.44</td>\n",
       "      <td>AUD</td>\n",
       "      <td>http://schema.org/InStock</td>\n",
       "      <td>https://au.iherb.com/pr/Kosette-Nano-Reusable-...</td>\n",
       "      <td>https://au.iherb.com/c/protective-face-masks</td>\n",
       "    </tr>\n",
       "    <tr>\n",
       "      <th>1</th>\n",
       "      <td>0</td>\n",
       "      <td>iHerb Customer</td>\n",
       "      <td>0</td>\n",
       "      <td>0</td>\n",
       "      <td>6094d104-1216-40aa-903d-74e98f939558</td>\n",
       "      <td>0</td>\n",
       "      <td>ru-RU</td>\n",
       "      <td>2021-02-06T07:01:31.423Z</td>\n",
       "      <td>99829</td>\n",
       "      <td>0.0</td>\n",
       "      <td>...</td>\n",
       "      <td>Nano Reusable Face Protection Mask</td>\n",
       "      <td>Large, 1 Mask,</td>\n",
       "      <td>Large</td>\n",
       "      <td>1 Mask</td>\n",
       "      <td>NaN</td>\n",
       "      <td>22.44</td>\n",
       "      <td>AUD</td>\n",
       "      <td>http://schema.org/InStock</td>\n",
       "      <td>https://au.iherb.com/pr/Kosette-Nano-Reusable-...</td>\n",
       "      <td>https://au.iherb.com/c/protective-face-masks</td>\n",
       "    </tr>\n",
       "    <tr>\n",
       "      <th>2</th>\n",
       "      <td>0</td>\n",
       "      <td>iHerb Customer</td>\n",
       "      <td>0</td>\n",
       "      <td>0</td>\n",
       "      <td>bb102f95-fd45-4534-9f2a-d011fd7cb085</td>\n",
       "      <td>0</td>\n",
       "      <td>en-US</td>\n",
       "      <td>2021-02-05T14:18:31.551Z</td>\n",
       "      <td>99829</td>\n",
       "      <td>0.0</td>\n",
       "      <td>...</td>\n",
       "      <td>Nano Reusable Face Protection Mask</td>\n",
       "      <td>Large, 1 Mask,</td>\n",
       "      <td>Large</td>\n",
       "      <td>1 Mask</td>\n",
       "      <td>NaN</td>\n",
       "      <td>22.44</td>\n",
       "      <td>AUD</td>\n",
       "      <td>http://schema.org/InStock</td>\n",
       "      <td>https://au.iherb.com/pr/Kosette-Nano-Reusable-...</td>\n",
       "      <td>https://au.iherb.com/c/protective-face-masks</td>\n",
       "    </tr>\n",
       "    <tr>\n",
       "      <th>3</th>\n",
       "      <td>0</td>\n",
       "      <td>iHerb Customer</td>\n",
       "      <td>0</td>\n",
       "      <td>0</td>\n",
       "      <td>fc38ffce-201a-45bd-9698-1bce39a673af</td>\n",
       "      <td>0</td>\n",
       "      <td>ar-SA</td>\n",
       "      <td>2021-02-05T12:03:11.928Z</td>\n",
       "      <td>99829</td>\n",
       "      <td>1.0</td>\n",
       "      <td>...</td>\n",
       "      <td>Nano Reusable Face Protection Mask</td>\n",
       "      <td>Large, 1 Mask,</td>\n",
       "      <td>Large</td>\n",
       "      <td>1 Mask</td>\n",
       "      <td>NaN</td>\n",
       "      <td>22.44</td>\n",
       "      <td>AUD</td>\n",
       "      <td>http://schema.org/InStock</td>\n",
       "      <td>https://au.iherb.com/pr/Kosette-Nano-Reusable-...</td>\n",
       "      <td>https://au.iherb.com/c/protective-face-masks</td>\n",
       "    </tr>\n",
       "    <tr>\n",
       "      <th>4</th>\n",
       "      <td>0</td>\n",
       "      <td>iHerb Customer</td>\n",
       "      <td>0</td>\n",
       "      <td>0</td>\n",
       "      <td>c1e2708f-c584-49aa-b19f-7fef1672c796</td>\n",
       "      <td>0</td>\n",
       "      <td>en-US</td>\n",
       "      <td>2021-02-04T17:21:53.418Z</td>\n",
       "      <td>99829</td>\n",
       "      <td>0.0</td>\n",
       "      <td>...</td>\n",
       "      <td>Nano Reusable Face Protection Mask</td>\n",
       "      <td>Large, 1 Mask,</td>\n",
       "      <td>Large</td>\n",
       "      <td>1 Mask</td>\n",
       "      <td>NaN</td>\n",
       "      <td>22.44</td>\n",
       "      <td>AUD</td>\n",
       "      <td>http://schema.org/InStock</td>\n",
       "      <td>https://au.iherb.com/pr/Kosette-Nano-Reusable-...</td>\n",
       "      <td>https://au.iherb.com/c/protective-face-masks</td>\n",
       "    </tr>\n",
       "  </tbody>\n",
       "</table>\n",
       "<p>5 rows × 35 columns</p>\n",
       "</div>"
      ],
      "text/plain": [
       "   abuseCount customerNickname  helpfulNo  helpfulYes  \\\n",
       "0           0   iHerb Customer          0           0   \n",
       "1           0   iHerb Customer          0           0   \n",
       "2           0   iHerb Customer          0           0   \n",
       "3           0   iHerb Customer          0           0   \n",
       "4           0   iHerb Customer          0           0   \n",
       "\n",
       "                                     id  imagesCount languageCode  \\\n",
       "0  c2d6b926-78b6-4ca3-90d3-23b96c0c9ac7            0        en-US   \n",
       "1  6094d104-1216-40aa-903d-74e98f939558            0        ru-RU   \n",
       "2  bb102f95-fd45-4534-9f2a-d011fd7cb085            0        en-US   \n",
       "3  fc38ffce-201a-45bd-9698-1bce39a673af            0        ar-SA   \n",
       "4  c1e2708f-c584-49aa-b19f-7fef1672c796            0        en-US   \n",
       "\n",
       "                 postedDate  productId  profileInfo.ugcSummary.answerCount  \\\n",
       "0  2021-02-06T12:46:05.712Z      99829                                 0.0   \n",
       "1  2021-02-06T07:01:31.423Z      99829                                 0.0   \n",
       "2  2021-02-05T14:18:31.551Z      99829                                 0.0   \n",
       "3  2021-02-05T12:03:11.928Z      99829                                 1.0   \n",
       "4  2021-02-04T17:21:53.418Z      99829                                 0.0   \n",
       "\n",
       "   ...                       product_model  product_features prod_features1  \\\n",
       "0  ...  Nano Reusable Face Protection Mask   Large, 1 Mask,           Large   \n",
       "1  ...  Nano Reusable Face Protection Mask   Large, 1 Mask,           Large   \n",
       "2  ...  Nano Reusable Face Protection Mask   Large, 1 Mask,           Large   \n",
       "3  ...  Nano Reusable Face Protection Mask   Large, 1 Mask,           Large   \n",
       "4  ...  Nano Reusable Face Protection Mask   Large, 1 Mask,           Large   \n",
       "\n",
       "  prod_features2  prod_features3  product_price price_currency  \\\n",
       "0         1 Mask             NaN          22.44            AUD   \n",
       "1         1 Mask             NaN          22.44            AUD   \n",
       "2         1 Mask             NaN          22.44            AUD   \n",
       "3         1 Mask             NaN          22.44            AUD   \n",
       "4         1 Mask             NaN          22.44            AUD   \n",
       "\n",
       "        product_availability  \\\n",
       "0  http://schema.org/InStock   \n",
       "1  http://schema.org/InStock   \n",
       "2  http://schema.org/InStock   \n",
       "3  http://schema.org/InStock   \n",
       "4  http://schema.org/InStock   \n",
       "\n",
       "                                         product_url  \\\n",
       "0  https://au.iherb.com/pr/Kosette-Nano-Reusable-...   \n",
       "1  https://au.iherb.com/pr/Kosette-Nano-Reusable-...   \n",
       "2  https://au.iherb.com/pr/Kosette-Nano-Reusable-...   \n",
       "3  https://au.iherb.com/pr/Kosette-Nano-Reusable-...   \n",
       "4  https://au.iherb.com/pr/Kosette-Nano-Reusable-...   \n",
       "\n",
       "                                     source_url  \n",
       "0  https://au.iherb.com/c/protective-face-masks  \n",
       "1  https://au.iherb.com/c/protective-face-masks  \n",
       "2  https://au.iherb.com/c/protective-face-masks  \n",
       "3  https://au.iherb.com/c/protective-face-masks  \n",
       "4  https://au.iherb.com/c/protective-face-masks  \n",
       "\n",
       "[5 rows x 35 columns]"
      ]
     },
     "execution_count": 3,
     "metadata": {},
     "output_type": "execute_result"
    }
   ],
   "source": [
    "df = pd.merge(rev_df,prod_df, left_on=['productId'], right_on=['product_id'])\n",
    "df.drop(columns=df.columns[0], axis=1,  inplace=True)\n",
    "df.head()"
   ]
  },
  {
   "cell_type": "code",
   "execution_count": 4,
   "metadata": {},
   "outputs": [
    {
     "data": {
      "text/plain": [
       "<BarContainer object of 16 artists>"
      ]
     },
     "execution_count": 4,
     "metadata": {},
     "output_type": "execute_result"
    },
    {
     "data": {
      "image/png": "[encoded data removed]",
      "text/plain": [
       "<Figure size 640x480 with 1 Axes>"
      ]
     },
     "metadata": {},
     "output_type": "display_data"
    }
   ],
   "source": [
    "plt.barh(df.product_name.value_counts().index,df.product_name.value_counts())"
   ]
  },
  {
   "cell_type": "code",
   "execution_count": 5,
   "metadata": {},
   "outputs": [
    {
     "data": {
      "text/plain": [
       "<BarContainer object of 13 artists>"
      ]
     },
     "execution_count": 5,
     "metadata": {},
     "output_type": "execute_result"
    },
    {
     "data": {
      "image/png": "[encoded data removed]",
      "text/plain": [
       "<Figure size 640x480 with 1 Axes>"
      ]
     },
     "metadata": {},
     "output_type": "display_data"
    }
   ],
   "source": [
    "plt.barh(df.product_model.value_counts().index,df.product_model.value_counts())"
   ]
  },
  {
   "cell_type": "code",
   "execution_count": 6,
   "metadata": {},
   "outputs": [
    {
     "data": {
      "text/html": [
       "<div>\n",
       "<style scoped>\n",
       "    .dataframe tbody tr th:only-of-type {\n",
       "        vertical-align: middle;\n",
       "    }\n",
       "\n",
       "    .dataframe tbody tr th {\n",
       "        vertical-align: top;\n",
       "    }\n",
       "\n",
       "    .dataframe thead th {\n",
       "        text-align: right;\n",
       "    }\n",
       "</style>\n",
       "<table border=\"1\" class=\"dataframe\">\n",
       "  <thead>\n",
       "    <tr style=\"text-align: right;\">\n",
       "      <th></th>\n",
       "      <th>count</th>\n",
       "      <th>brand</th>\n",
       "      <th>model</th>\n",
       "      <th>features</th>\n",
       "    </tr>\n",
       "  </thead>\n",
       "  <tbody>\n",
       "    <tr>\n",
       "      <th>101955</th>\n",
       "      <td>658</td>\n",
       "      <td>SunJoy</td>\n",
       "      <td>KN95</td>\n",
       "      <td>Professional Protective Disposable Face Mask, ...</td>\n",
       "    </tr>\n",
       "    <tr>\n",
       "      <th>100237</th>\n",
       "      <td>530</td>\n",
       "      <td>Kitsch</td>\n",
       "      <td>100% Cotton Reuseable Face Masks</td>\n",
       "      <td>Leopard, 3 Pack</td>\n",
       "    </tr>\n",
       "    <tr>\n",
       "      <th>99830</th>\n",
       "      <td>475</td>\n",
       "      <td>Kosette</td>\n",
       "      <td>Nano Reusable Face Protection Mask</td>\n",
       "      <td>Medium, 1 Mask</td>\n",
       "    </tr>\n",
       "    <tr>\n",
       "      <th>102734</th>\n",
       "      <td>337</td>\n",
       "      <td>Zidian</td>\n",
       "      <td>Disposable Protective Mask</td>\n",
       "      <td>50 Pack</td>\n",
       "    </tr>\n",
       "    <tr>\n",
       "      <th>99829</th>\n",
       "      <td>304</td>\n",
       "      <td>Kosette</td>\n",
       "      <td>Nano Reusable Face Protection Mask</td>\n",
       "      <td>Large, 1 Mask</td>\n",
       "    </tr>\n",
       "  </tbody>\n",
       "</table>\n",
       "</div>"
      ],
      "text/plain": [
       "        count    brand                               model  \\\n",
       "101955    658   SunJoy                                KN95   \n",
       "100237    530   Kitsch    100% Cotton Reuseable Face Masks   \n",
       "99830     475  Kosette  Nano Reusable Face Protection Mask   \n",
       "102734    337   Zidian          Disposable Protective Mask   \n",
       "99829     304  Kosette  Nano Reusable Face Protection Mask   \n",
       "\n",
       "                                                 features  \n",
       "101955  Professional Protective Disposable Face Mask, ...  \n",
       "100237                                    Leopard, 3 Pack  \n",
       "99830                                      Medium, 1 Mask  \n",
       "102734                                            50 Pack  \n",
       "99829                                       Large, 1 Mask  "
      ]
     },
     "execution_count": 6,
     "metadata": {},
     "output_type": "execute_result"
    }
   ],
   "source": [
    "count_df = pd.DataFrame(df.product_id.value_counts())\n",
    "add_brand = list()\n",
    "add_model = list()\n",
    "add_features = list()\n",
    "for i in count_df.index:\n",
    "    add_brand.append(prod_df[prod_df['product_id'] == i].product_name.iloc[0])\n",
    "    add_model.append(prod_df[prod_df['product_id'] == i].product_model.iloc[0])\n",
    "    add_features.append(prod_df[prod_df['product_id'] == i].product_features.iloc[0].rstrip(', ,'))\n",
    "count_df['brand'] = pd.Series(add_brand).values\n",
    "count_df['model'] = pd.Series(add_model).values\n",
    "count_df['features'] = pd.Series(add_features).values\n",
    "count_df = count_df.rename(columns={'product_id':'count'})\n",
    "count_df.head()"
   ]
  },
  {
   "cell_type": "code",
   "execution_count": 7,
   "metadata": {},
   "outputs": [
    {
     "data": {
      "application/vnd.plotly.v1+json": {
       "config": {
        "plotlyServerURL": "https://plot.ly"
       },
       "data": [
        {
         "alignmentgroup": "True",
         "customdata": [
          [
           "Professional Protective Disposable Face Mask, 10 Pack"
          ]
         ],
         "hovertemplate": "<b>%{hovertext}</b><br><br>model=KN95<br>brand=%{x}<br>count=%{y}<br>features=%{customdata[0]}<extra></extra>",
         "hovertext": [
          "KN95"
         ],
         "legendgroup": "KN95",
         "marker": {
          "color": "#636efa",
          "pattern": {
           "shape": ""
          }
         },
         "name": "KN95",
         "offsetgroup": "KN95",
         "orientation": "v",
         "showlegend": true,
         "textposition": "auto",
         "texttemplate": "%{y}",
         "type": "bar",
         "x": [
          "SunJoy"
         ],
         "xaxis": "x",
         "y": [
          658
         ],
         "yaxis": "y"
        },
        {
         "alignmentgroup": "True",
         "customdata": [
          [
           "Leopard, 3 Pack"
          ],
          [
           "Neutral, 3 Pack"
          ],
          [
           "Blush, 3 Pack"
          ]
         ],
         "hovertemplate": "<b>%{hovertext}</b><br><br>model=100% Cotton Reuseable Face Masks<br>brand=%{x}<br>count=%{y}<br>features=%{customdata[0]}<extra></extra>",
         "hovertext": [
          "100% Cotton Reuseable Face Masks",
          "100% Cotton Reuseable Face Masks",
          "100% Cotton Reuseable Face Masks"
         ],
         "legendgroup": "100% Cotton Reuseable Face Masks",
         "marker": {
          "color": "#EF553B",
          "pattern": {
           "shape": ""
          }
         },
         "name": "100% Cotton Reuseable Face Masks",
         "offsetgroup": "100% Cotton Reuseable Face Masks",
         "orientation": "v",
         "showlegend": true,
         "textposition": "auto",
         "texttemplate": "%{y}",
         "type": "bar",
         "x": [
          "Kitsch",
          "Kitsch",
          "Kitsch"
         ],
         "xaxis": "x",
         "y": [
          530,
          259,
          107
         ],
         "yaxis": "y"
        },
        {
         "alignmentgroup": "True",
         "customdata": [
          [
           "Medium, 1 Mask"
          ],
          [
           "Large, 1 Mask"
          ]
         ],
         "hovertemplate": "<b>%{hovertext}</b><br><br>model=Nano Reusable Face Protection Mask<br>brand=%{x}<br>count=%{y}<br>features=%{customdata[0]}<extra></extra>",
         "hovertext": [
          "Nano Reusable Face Protection Mask",
          "Nano Reusable Face Protection Mask"
         ],
         "legendgroup": "Nano Reusable Face Protection Mask",
         "marker": {
          "color": "#00cc96",
          "pattern": {
           "shape": ""
          }
         },
         "name": "Nano Reusable Face Protection Mask",
         "offsetgroup": "Nano Reusable Face Protection Mask",
         "orientation": "v",
         "showlegend": true,
         "textposition": "auto",
         "texttemplate": "%{y}",
         "type": "bar",
         "x": [
          "Kosette",
          "Kosette"
         ],
         "xaxis": "x",
         "y": [
          475,
          304
         ],
         "yaxis": "y"
        },
        {
         "alignmentgroup": "True",
         "customdata": [
          [
           "50 Pack"
          ]
         ],
         "hovertemplate": "<b>%{hovertext}</b><br><br>model=Disposable Protective Mask<br>brand=%{x}<br>count=%{y}<br>features=%{customdata[0]}<extra></extra>",
         "hovertext": [
          "Disposable Protective Mask"
         ],
         "legendgroup": "Disposable Protective Mask",
         "marker": {
          "color": "#ab63fa",
          "pattern": {
           "shape": ""
          }
         },
         "name": "Disposable Protective Mask",
         "offsetgroup": "Disposable Protective Mask",
         "orientation": "v",
         "showlegend": true,
         "textposition": "auto",
         "texttemplate": "%{y}",
         "type": "bar",
         "x": [
          "Zidian"
         ],
         "xaxis": "x",
         "y": [
          337
         ],
         "yaxis": "y"
        },
        {
         "alignmentgroup": "True",
         "customdata": [
          [
           "1 Mask"
          ],
          [
           "1 Mask"
          ],
          [
           "for Kids, 1 Mask"
          ],
          [
           "20 Masks"
          ],
          [
           "20 Masks"
          ],
          [
           "1 Mask"
          ],
          [
           "25 Masks"
          ]
         ],
         "hovertemplate": "<b>%{hovertext}</b><br><br>model=Disposable KF94 ( N95 / KN95/ FFP2 ) Mask<br>brand=%{x}<br>count=%{y}<br>features=%{customdata[0]}<extra></extra>",
         "hovertext": [
          "Disposable KF94 ( N95 / KN95/ FFP2 ) Mask",
          "Disposable KF94 ( N95 / KN95/ FFP2 ) Mask",
          "Disposable KF94 ( N95 / KN95/ FFP2 ) Mask",
          "Disposable KF94 ( N95 / KN95/ FFP2 ) Mask",
          "Disposable KF94 ( N95 / KN95/ FFP2 ) Mask",
          "Disposable KF94 ( N95 / KN95/ FFP2 ) Mask",
          "Disposable KF94 ( N95 / KN95/ FFP2 ) Mask"
         ],
         "legendgroup": "Disposable KF94 ( N95 / KN95/ FFP2 ) Mask",
         "marker": {
          "color": "#FFA15A",
          "pattern": {
           "shape": ""
          }
         },
         "name": "Disposable KF94 ( N95 / KN95/ FFP2 ) Mask",
         "offsetgroup": "Disposable KF94 ( N95 / KN95/ FFP2 ) Mask",
         "orientation": "v",
         "showlegend": true,
         "textposition": "auto",
         "texttemplate": "%{y}",
         "type": "bar",
         "x": [
          "La Hauteur",
          "HIGUARD",
          "YJ Corporation",
          "Dr. Puri",
          "Dr. Puri",
          "One Fine Day",
          "Hwipure"
         ],
         "xaxis": "x",
         "y": [
          225,
          168,
          68,
          63,
          40,
          25,
          21
         ],
         "yaxis": "y"
        },
        {
         "alignmentgroup": "True",
         "customdata": [
          [
           "5 Count"
          ]
         ],
         "hovertemplate": "<b>%{hovertext}</b><br><br>model=CTT KN95 Respirator Mask<br>brand=%{x}<br>count=%{y}<br>features=%{customdata[0]}<extra></extra>",
         "hovertext": [
          "CTT KN95 Respirator Mask"
         ],
         "legendgroup": "CTT KN95 Respirator Mask",
         "marker": {
          "color": "#19d3f3",
          "pattern": {
           "shape": ""
          }
         },
         "name": "CTT KN95 Respirator Mask",
         "offsetgroup": "CTT KN95 Respirator Mask",
         "orientation": "v",
         "showlegend": true,
         "textposition": "auto",
         "texttemplate": "%{y}",
         "type": "bar",
         "x": [
          "Tony Moly"
         ],
         "xaxis": "x",
         "y": [
          145
         ],
         "yaxis": "y"
        },
        {
         "alignmentgroup": "True",
         "customdata": [
          [
           "Grey, S-M, 1 Mask"
          ]
         ],
         "hovertemplate": "<b>%{hovertext}</b><br><br>model=Face Mask<br>brand=%{x}<br>count=%{y}<br>features=%{customdata[0]}<extra></extra>",
         "hovertext": [
          "Face Mask"
         ],
         "legendgroup": "Face Mask",
         "marker": {
          "color": "#FF6692",
          "pattern": {
           "shape": ""
          }
         },
         "name": "Face Mask",
         "offsetgroup": "Face Mask",
         "orientation": "v",
         "showlegend": true,
         "textposition": "auto",
         "texttemplate": "%{y}",
         "type": "bar",
         "x": [
          "Now Foods"
         ],
         "xaxis": "x",
         "y": [
          68
         ],
         "yaxis": "y"
        },
        {
         "alignmentgroup": "True",
         "customdata": [
          [
           "50 Pack"
          ],
          [
           "50 Pack"
          ]
         ],
         "hovertemplate": "<b>%{hovertext}</b><br><br>model=Disposable Protection Face Mask<br>brand=%{x}<br>count=%{y}<br>features=%{customdata[0]}<extra></extra>",
         "hovertext": [
          "Disposable Protection Face Mask",
          "Disposable Protection Face Mask"
         ],
         "legendgroup": "Disposable Protection Face Mask",
         "marker": {
          "color": "#B6E880",
          "pattern": {
           "shape": ""
          }
         },
         "name": "Disposable Protection Face Mask",
         "offsetgroup": "Disposable Protection Face Mask",
         "orientation": "v",
         "showlegend": true,
         "textposition": "auto",
         "texttemplate": "%{y}",
         "type": "bar",
         "x": [
          "Luseta Beauty",
          "Luseta Beauty"
         ],
         "xaxis": "x",
         "y": [
          49,
          41
         ],
         "yaxis": "y"
        },
        {
         "alignmentgroup": "True",
         "customdata": [
          [
           "Large, 3 Pack"
          ]
         ],
         "hovertemplate": "<b>%{hovertext}</b><br><br>model=10 Days Mask<br>brand=%{x}<br>count=%{y}<br>features=%{customdata[0]}<extra></extra>",
         "hovertext": [
          "10 Days Mask"
         ],
         "legendgroup": "10 Days Mask",
         "marker": {
          "color": "#FF97FF",
          "pattern": {
           "shape": ""
          }
         },
         "name": "10 Days Mask",
         "offsetgroup": "10 Days Mask",
         "orientation": "v",
         "showlegend": true,
         "textposition": "auto",
         "texttemplate": "%{y}",
         "type": "bar",
         "x": [
          "Puritas"
         ],
         "xaxis": "x",
         "y": [
          46
         ],
         "yaxis": "y"
        },
        {
         "alignmentgroup": "True",
         "customdata": [
          [
           "50 Pack"
          ]
         ],
         "hovertemplate": "<b>%{hovertext}</b><br><br>model=3 Ply Disposable Protective Face Mask<br>brand=%{x}<br>count=%{y}<br>features=%{customdata[0]}<extra></extra>",
         "hovertext": [
          "3 Ply Disposable Protective Face Mask"
         ],
         "legendgroup": "3 Ply Disposable Protective Face Mask",
         "marker": {
          "color": "#FECB52",
          "pattern": {
           "shape": ""
          }
         },
         "name": "3 Ply Disposable Protective Face Mask",
         "offsetgroup": "3 Ply Disposable Protective Face Mask",
         "orientation": "v",
         "showlegend": true,
         "textposition": "auto",
         "texttemplate": "%{y}",
         "type": "bar",
         "x": [
          "Landsberg"
         ],
         "xaxis": "x",
         "y": [
          43
         ],
         "yaxis": "y"
        },
        {
         "alignmentgroup": "True",
         "customdata": [
          [
           "Adult, Black, 1 Mask"
          ],
          [
           "Adult, Gray, 1 Mask"
          ],
          [
           "Adult, Dot, 1 Count"
          ],
          [
           "Kids, Gray, 1 Count"
          ],
          [
           "Kids, Black, 1 Mask"
          ]
         ],
         "hovertemplate": "<b>%{hovertext}</b><br><br>model=Copper Mask<br>brand=%{x}<br>count=%{y}<br>features=%{customdata[0]}<extra></extra>",
         "hovertext": [
          "Copper Mask",
          "Copper Mask",
          "Copper Mask",
          "Copper Mask",
          "Copper Mask"
         ],
         "legendgroup": "Copper Mask",
         "marker": {
          "color": "#636efa",
          "pattern": {
           "shape": ""
          }
         },
         "name": "Copper Mask",
         "offsetgroup": "Copper Mask",
         "orientation": "v",
         "showlegend": true,
         "textposition": "auto",
         "texttemplate": "%{y}",
         "type": "bar",
         "x": [
          "Lozperi",
          "Lozperi",
          "Lozperi",
          "Lozperi",
          "Lozperi"
         ],
         "xaxis": "x",
         "y": [
          42,
          20,
          12,
          8,
          7
         ],
         "yaxis": "y"
        },
        {
         "alignmentgroup": "True",
         "customdata": [
          [
           "3 Masks"
          ]
         ],
         "hovertemplate": "<b>%{hovertext}</b><br><br>model=Fashion Mask with Filter Pocket<br>brand=%{x}<br>count=%{y}<br>features=%{customdata[0]}<extra></extra>",
         "hovertext": [
          "Fashion Mask with Filter Pocket"
         ],
         "legendgroup": "Fashion Mask with Filter Pocket",
         "marker": {
          "color": "#EF553B",
          "pattern": {
           "shape": ""
          }
         },
         "name": "Fashion Mask with Filter Pocket",
         "offsetgroup": "Fashion Mask with Filter Pocket",
         "orientation": "v",
         "showlegend": true,
         "textposition": "auto",
         "texttemplate": "%{y}",
         "type": "bar",
         "x": [
          "Kosette"
         ],
         "xaxis": "x",
         "y": [
          2
         ],
         "yaxis": "y"
        },
        {
         "alignmentgroup": "True",
         "customdata": [
          [
           "24 Filters"
          ]
         ],
         "hovertemplate": "<b>%{hovertext}</b><br><br>model=PM 2.5 Replaceable Filter<br>brand=%{x}<br>count=%{y}<br>features=%{customdata[0]}<extra></extra>",
         "hovertext": [
          "PM 2.5 Replaceable Filter"
         ],
         "legendgroup": "PM 2.5 Replaceable Filter",
         "marker": {
          "color": "#00cc96",
          "pattern": {
           "shape": ""
          }
         },
         "name": "PM 2.5 Replaceable Filter",
         "offsetgroup": "PM 2.5 Replaceable Filter",
         "orientation": "v",
         "showlegend": true,
         "textposition": "auto",
         "texttemplate": "%{y}",
         "type": "bar",
         "x": [
          "Kosette"
         ],
         "xaxis": "x",
         "y": [
          2
         ],
         "yaxis": "y"
        }
       ],
       "layout": {
        "barmode": "relative",
        "legend": {
         "title": {
          "text": "model"
         },
         "tracegroupgap": 0
        },
        "margin": {
         "t": 60
        },
        "template": {
         "data": {
          "bar": [
           {
            "error_x": {
             "color": "#2a3f5f"
            },
            "error_y": {
             "color": "#2a3f5f"
            },
            "marker": {
             "line": {
              "color": "#E5ECF6",
              "width": 0.5
             },
             "pattern": {
              "fillmode": "overlay",
              "size": 10,
              "solidity": 0.2
             }
            },
            "type": "bar"
           }
          ],
          "barpolar": [
           {
            "marker": {
             "line": {
              "color": "#E5ECF6",
              "width": 0.5
             },
             "pattern": {
              "fillmode": "overlay",
              "size": 10,
              "solidity": 0.2
             }
            },
            "type": "barpolar"
           }
          ],
          "carpet": [
           {
            "aaxis": {
             "endlinecolor": "#2a3f5f",
             "gridcolor": "white",
             "linecolor": "white",
             "minorgridcolor": "white",
             "startlinecolor": "#2a3f5f"
            },
            "baxis": {
             "endlinecolor": "#2a3f5f",
             "gridcolor": "white",
             "linecolor": "white",
             "minorgridcolor": "white",
             "startlinecolor": "#2a3f5f"
            },
            "type": "carpet"
           }
          ],
          "choropleth": [
           {
            "colorbar": {
             "outlinewidth": 0,
             "ticks": ""
            },
            "type": "choropleth"
           }
          ],
          "contour": [
           {
            "colorbar": {
             "outlinewidth": 0,
             "ticks": ""
            },
            "colorscale": [
             [
              0,
              "#0d0887"
             ],
             [
              0.1111111111111111,
              "#46039f"
             ],
             [
              0.2222222222222222,
              "#7201a8"
             ],
             [
              0.3333333333333333,
              "#9c179e"
             ],
             [
              0.4444444444444444,
              "#bd3786"
             ],
             [
              0.5555555555555556,
              "#d8576b"
             ],
             [
              0.6666666666666666,
              "#ed7953"
             ],
             [
              0.7777777777777778,
              "#fb9f3a"
             ],
             [
              0.8888888888888888,
              "#fdca26"
             ],
             [
              1,
              "#f0f921"
             ]
            ],
            "type": "contour"
           }
          ],
          "contourcarpet": [
           {
            "colorbar": {
             "outlinewidth": 0,
             "ticks": ""
            },
            "type": "contourcarpet"
           }
          ],
          "heatmap": [
           {
            "colorbar": {
             "outlinewidth": 0,
             "ticks": ""
            },
            "colorscale": [
             [
              0,
              "#0d0887"
             ],
             [
              0.1111111111111111,
              "#46039f"
             ],
             [
              0.2222222222222222,
              "#7201a8"
             ],
             [
              0.3333333333333333,
              "#9c179e"
             ],
             [
              0.4444444444444444,
              "#bd3786"
             ],
             [
              0.5555555555555556,
              "#d8576b"
             ],
             [
              0.6666666666666666,
              "#ed7953"
             ],
             [
              0.7777777777777778,
              "#fb9f3a"
             ],
             [
              0.8888888888888888,
              "#fdca26"
             ],
             [
              1,
              "#f0f921"
             ]
            ],
            "type": "heatmap"
           }
          ],
          "heatmapgl": [
           {
            "colorbar": {
             "outlinewidth": 0,
             "ticks": ""
            },
            "colorscale": [
             [
              0,
              "#0d0887"
             ],
             [
              0.1111111111111111,
              "#46039f"
             ],
             [
              0.2222222222222222,
              "#7201a8"
             ],
             [
              0.3333333333333333,
              "#9c179e"
             ],
             [
              0.4444444444444444,
              "#bd3786"
             ],
             [
              0.5555555555555556,
              "#d8576b"
             ],
             [
              0.6666666666666666,
              "#ed7953"
             ],
             [
              0.7777777777777778,
              "#fb9f3a"
             ],
             [
              0.8888888888888888,
              "#fdca26"
             ],
             [
              1,
              "#f0f921"
             ]
            ],
            "type": "heatmapgl"
           }
          ],
          "histogram": [
           {
            "marker": {
             "pattern": {
              "fillmode": "overlay",
              "size": 10,
              "solidity": 0.2
             }
            },
            "type": "histogram"
           }
          ],
          "histogram2d": [
           {
            "colorbar": {
             "outlinewidth": 0,
             "ticks": ""
            },
            "colorscale": [
             [
              0,
              "#0d0887"
             ],
             [
              0.1111111111111111,
              "#46039f"
             ],
             [
              0.2222222222222222,
              "#7201a8"
             ],
             [
              0.3333333333333333,
              "#9c179e"
             ],
             [
              0.4444444444444444,
              "#bd3786"
             ],
             [
              0.5555555555555556,
              "#d8576b"
             ],
             [
              0.6666666666666666,
              "#ed7953"
             ],
             [
              0.7777777777777778,
              "#fb9f3a"
             ],
             [
              0.8888888888888888,
              "#fdca26"
             ],
             [
              1,
              "#f0f921"
             ]
            ],
            "type": "histogram2d"
           }
          ],
          "histogram2dcontour": [
           {
            "colorbar": {
             "outlinewidth": 0,
             "ticks": ""
            },
            "colorscale": [
             [
              0,
              "#0d0887"
             ],
             [
              0.1111111111111111,
              "#46039f"
             ],
             [
              0.2222222222222222,
              "#7201a8"
             ],
             [
              0.3333333333333333,
              "#9c179e"
             ],
             [
              0.4444444444444444,
              "#bd3786"
             ],
             [
              0.5555555555555556,
              "#d8576b"
             ],
             [
              0.6666666666666666,
              "#ed7953"
             ],
             [
              0.7777777777777778,
              "#fb9f3a"
             ],
             [
              0.8888888888888888,
              "#fdca26"
             ],
             [
              1,
              "#f0f921"
             ]
            ],
            "type": "histogram2dcontour"
           }
          ],
          "mesh3d": [
           {
            "colorbar": {
             "outlinewidth": 0,
             "ticks": ""
            },
            "type": "mesh3d"
           }
          ],
          "parcoords": [
           {
            "line": {
             "colorbar": {
              "outlinewidth": 0,
              "ticks": ""
             }
            },
            "type": "parcoords"
           }
          ],
          "pie": [
           {
            "automargin": true,
            "type": "pie"
           }
          ],
          "scatter": [
           {
            "fillpattern": {
             "fillmode": "overlay",
             "size": 10,
             "solidity": 0.2
            },
            "type": "scatter"
           }
          ],
          "scatter3d": [
           {
            "line": {
             "colorbar": {
              "outlinewidth": 0,
              "ticks": ""
             }
            },
            "marker": {
             "colorbar": {
              "outlinewidth": 0,
              "ticks": ""
             }
            },
            "type": "scatter3d"
           }
          ],
          "scattercarpet": [
           {
            "marker": {
             "colorbar": {
              "outlinewidth": 0,
              "ticks": ""
             }
            },
            "type": "scattercarpet"
           }
          ],
          "scattergeo": [
           {
            "marker": {
             "colorbar": {
              "outlinewidth": 0,
              "ticks": ""
             }
            },
            "type": "scattergeo"
           }
          ],
          "scattergl": [
           {
            "marker": {
             "colorbar": {
              "outlinewidth": 0,
              "ticks": ""
             }
            },
            "type": "scattergl"
           }
          ],
          "scattermapbox": [
           {
            "marker": {
             "colorbar": {
              "outlinewidth": 0,
              "ticks": ""
             }
            },
            "type": "scattermapbox"
           }
          ],
          "scatterpolar": [
           {
            "marker": {
             "colorbar": {
              "outlinewidth": 0,
              "ticks": ""
             }
            },
            "type": "scatterpolar"
           }
          ],
          "scatterpolargl": [
           {
            "marker": {
             "colorbar": {
              "outlinewidth": 0,
              "ticks": ""
             }
            },
            "type": "scatterpolargl"
           }
          ],
          "scatterternary": [
           {
            "marker": {
             "colorbar": {
              "outlinewidth": 0,
              "ticks": ""
             }
            },
            "type": "scatterternary"
           }
          ],
          "surface": [
           {
            "colorbar": {
             "outlinewidth": 0,
             "ticks": ""
            },
            "colorscale": [
             [
              0,
              "#0d0887"
             ],
             [
              0.1111111111111111,
              "#46039f"
             ],
             [
              0.2222222222222222,
              "#7201a8"
             ],
             [
              0.3333333333333333,
              "#9c179e"
             ],
             [
              0.4444444444444444,
              "#bd3786"
             ],
             [
              0.5555555555555556,
              "#d8576b"
             ],
             [
              0.6666666666666666,
              "#ed7953"
             ],
             [
              0.7777777777777778,
              "#fb9f3a"
             ],
             [
              0.8888888888888888,
              "#fdca26"
             ],
             [
              1,
              "#f0f921"
             ]
            ],
            "type": "surface"
           }
          ],
          "table": [
           {
            "cells": {
             "fill": {
              "color": "#EBF0F8"
             },
             "line": {
              "color": "white"
             }
            },
            "header": {
             "fill": {
              "color": "#C8D4E3"
             },
             "line": {
              "color": "white"
             }
            },
            "type": "table"
           }
          ]
         },
         "layout": {
          "annotationdefaults": {
           "arrowcolor": "#2a3f5f",
           "arrowhead": 0,
           "arrowwidth": 1
          },
          "autotypenumbers": "strict",
          "coloraxis": {
           "colorbar": {
            "outlinewidth": 0,
            "ticks": ""
           }
          },
          "colorscale": {
           "diverging": [
            [
             0,
             "#8e0152"
            ],
            [
             0.1,
             "#c51b7d"
            ],
            [
             0.2,
             "#de77ae"
            ],
            [
             0.3,
             "#f1b6da"
            ],
            [
             0.4,
             "#fde0ef"
            ],
            [
             0.5,
             "#f7f7f7"
            ],
            [
             0.6,
             "#e6f5d0"
            ],
            [
             0.7,
             "#b8e186"
            ],
            [
             0.8,
             "#7fbc41"
            ],
            [
             0.9,
             "#4d9221"
            ],
            [
             1,
             "#276419"
            ]
           ],
           "sequential": [
            [
             0,
             "#0d0887"
            ],
            [
             0.1111111111111111,
             "#46039f"
            ],
            [
             0.2222222222222222,
             "#7201a8"
            ],
            [
             0.3333333333333333,
             "#9c179e"
            ],
            [
             0.4444444444444444,
             "#bd3786"
            ],
            [
             0.5555555555555556,
             "#d8576b"
            ],
            [
             0.6666666666666666,
             "#ed7953"
            ],
            [
             0.7777777777777778,
             "#fb9f3a"
            ],
            [
             0.8888888888888888,
             "#fdca26"
            ],
            [
             1,
             "#f0f921"
            ]
           ],
           "sequentialminus": [
            [
             0,
             "#0d0887"
            ],
            [
             0.1111111111111111,
             "#46039f"
            ],
            [
             0.2222222222222222,
             "#7201a8"
            ],
            [
             0.3333333333333333,
             "#9c179e"
            ],
            [
             0.4444444444444444,
             "#bd3786"
            ],
            [
             0.5555555555555556,
             "#d8576b"
            ],
            [
             0.6666666666666666,
             "#ed7953"
            ],
            [
             0.7777777777777778,
             "#fb9f3a"
            ],
            [
             0.8888888888888888,
             "#fdca26"
            ],
            [
             1,
             "#f0f921"
            ]
           ]
          },
          "colorway": [
           "#636efa",
           "#EF553B",
           "#00cc96",
           "#ab63fa",
           "#FFA15A",
           "#19d3f3",
           "#FF6692",
           "#B6E880",
           "#FF97FF",
           "#FECB52"
          ],
          "font": {
           "color": "#2a3f5f"
          },
          "geo": {
           "bgcolor": "white",
           "lakecolor": "white",
           "landcolor": "#E5ECF6",
           "showlakes": true,
           "showland": true,
           "subunitcolor": "white"
          },
          "hoverlabel": {
           "align": "left"
          },
          "hovermode": "closest",
          "mapbox": {
           "style": "light"
          },
          "paper_bgcolor": "white",
          "plot_bgcolor": "#E5ECF6",
          "polar": {
           "angularaxis": {
            "gridcolor": "white",
            "linecolor": "white",
            "ticks": ""
           },
           "bgcolor": "#E5ECF6",
           "radialaxis": {
            "gridcolor": "white",
            "linecolor": "white",
            "ticks": ""
           }
          },
          "scene": {
           "xaxis": {
            "backgroundcolor": "#E5ECF6",
            "gridcolor": "white",
            "gridwidth": 2,
            "linecolor": "white",
            "showbackground": true,
            "ticks": "",
            "zerolinecolor": "white"
           },
           "yaxis": {
            "backgroundcolor": "#E5ECF6",
            "gridcolor": "white",
            "gridwidth": 2,
            "linecolor": "white",
            "showbackground": true,
            "ticks": "",
            "zerolinecolor": "white"
           },
           "zaxis": {
            "backgroundcolor": "#E5ECF6",
            "gridcolor": "white",
            "gridwidth": 2,
            "linecolor": "white",
            "showbackground": true,
            "ticks": "",
            "zerolinecolor": "white"
           }
          },
          "shapedefaults": {
           "line": {
            "color": "#2a3f5f"
           }
          },
          "ternary": {
           "aaxis": {
            "gridcolor": "white",
            "linecolor": "white",
            "ticks": ""
           },
           "baxis": {
            "gridcolor": "white",
            "linecolor": "white",
            "ticks": ""
           },
           "bgcolor": "#E5ECF6",
           "caxis": {
            "gridcolor": "white",
            "linecolor": "white",
            "ticks": ""
           }
          },
          "title": {
           "x": 0.05
          },
          "xaxis": {
           "automargin": true,
           "gridcolor": "white",
           "linecolor": "white",
           "ticks": "",
           "title": {
            "standoff": 15
           },
           "zerolinecolor": "white",
           "zerolinewidth": 2
          },
          "yaxis": {
           "automargin": true,
           "gridcolor": "white",
           "linecolor": "white",
           "ticks": "",
           "title": {
            "standoff": 15
           },
           "zerolinecolor": "white",
           "zerolinewidth": 2
          }
         }
        },
        "xaxis": {
         "anchor": "y",
         "domain": [
          0,
          1
         ],
         "title": {
          "text": "brand"
         }
        },
        "yaxis": {
         "anchor": "x",
         "domain": [
          0,
          1
         ],
         "title": {
          "text": "count"
         }
        }
       }
      }
     },
     "metadata": {},
     "output_type": "display_data"
    }
   ],
   "source": [
    "fig = px.bar(\n",
    "    count_df.sort_values(by='count',ascending=False),x='brand',y='count',\n",
    "    color='model', hover_name=\"model\", hover_data=[\"features\"],text_auto=True)\n",
    "fig.write_html('top5products.html')\n",
    "fig.show()"
   ]
  },
  {
   "cell_type": "code",
   "execution_count": 8,
   "metadata": {},
   "outputs": [
    {
     "data": {
      "text/plain": [
       "Index(['abuseCount', 'customerNickname', 'helpfulNo', 'helpfulYes', 'id',\n",
       "       'imagesCount', 'languageCode', 'postedDate', 'productId',\n",
       "       'profileInfo.ugcSummary.answerCount',\n",
       "       'profileInfo.ugcSummary.reviewCount', 'ratingValue', 'reviewText',\n",
       "       'reviewTitle', 'reviewed', 'score', 'languageCode.1', 'country',\n",
       "       'translation.reviewText', 'translation.reviewTitle', 'newReviewText',\n",
       "       'polarity', 'Sentiment', 'product_id', 'product_name', 'product_model',\n",
       "       'product_features', 'prod_features1', 'prod_features2',\n",
       "       'prod_features3', 'product_price', 'price_currency',\n",
       "       'product_availability', 'product_url', 'source_url'],\n",
       "      dtype='object')"
      ]
     },
     "execution_count": 8,
     "metadata": {},
     "output_type": "execute_result"
    }
   ],
   "source": [
    "df.columns"
   ]
  },
  {
   "cell_type": "code",
   "execution_count": 7,
   "metadata": {},
   "outputs": [
    {
     "data": {
      "text/html": [
       "<div>\n",
       "<style scoped>\n",
       "    .dataframe tbody tr th:only-of-type {\n",
       "        vertical-align: middle;\n",
       "    }\n",
       "\n",
       "    .dataframe tbody tr th {\n",
       "        vertical-align: top;\n",
       "    }\n",
       "\n",
       "    .dataframe thead th {\n",
       "        text-align: right;\n",
       "    }\n",
       "</style>\n",
       "<table border=\"1\" class=\"dataframe\">\n",
       "  <thead>\n",
       "    <tr style=\"text-align: right;\">\n",
       "      <th></th>\n",
       "      <th>product_name</th>\n",
       "      <th>Sentiment</th>\n",
       "      <th>count</th>\n",
       "    </tr>\n",
       "  </thead>\n",
       "  <tbody>\n",
       "    <tr>\n",
       "      <th>0</th>\n",
       "      <td>Kitsch</td>\n",
       "      <td>positive</td>\n",
       "      <td>798</td>\n",
       "    </tr>\n",
       "    <tr>\n",
       "      <th>5</th>\n",
       "      <td>Kitsch</td>\n",
       "      <td>negative</td>\n",
       "      <td>98</td>\n",
       "    </tr>\n",
       "    <tr>\n",
       "      <th>1</th>\n",
       "      <td>Kosette</td>\n",
       "      <td>positive</td>\n",
       "      <td>725</td>\n",
       "    </tr>\n",
       "    <tr>\n",
       "      <th>6</th>\n",
       "      <td>Kosette</td>\n",
       "      <td>negative</td>\n",
       "      <td>58</td>\n",
       "    </tr>\n",
       "    <tr>\n",
       "      <th>4</th>\n",
       "      <td>La Hauteur</td>\n",
       "      <td>positive</td>\n",
       "      <td>206</td>\n",
       "    </tr>\n",
       "  </tbody>\n",
       "</table>\n",
       "</div>"
      ],
      "text/plain": [
       "  product_name Sentiment  count\n",
       "0       Kitsch  positive    798\n",
       "5       Kitsch  negative     98\n",
       "1      Kosette  positive    725\n",
       "6      Kosette  negative     58\n",
       "4   La Hauteur  positive    206"
      ]
     },
     "execution_count": 7,
     "metadata": {},
     "output_type": "execute_result"
    }
   ],
   "source": [
    "sentiment_df = pd.DataFrame(df[df['product_name'].isin(['SunJoy','Kitsch','Kosette','Zidian','La Hauteur'])][['product_name','Sentiment']].value_counts()).reset_index().sort_values(by='product_name').rename(columns={0:'count'})\n",
    "sentiment_df.head()"
   ]
  },
  {
   "cell_type": "code",
   "execution_count": 22,
   "metadata": {},
   "outputs": [
    {
     "data": {
      "application/vnd.plotly.v1+json": {
       "config": {
        "plotlyServerURL": "https://plot.ly"
       },
       "data": [
        {
         "alignmentgroup": "True",
         "bingroup": "x",
         "histfunc": "sum",
         "hovertemplate": "Sentiment=positive<br>product_name=%{x}<br>sum of count=%{y}<extra></extra>",
         "legendgroup": "positive",
         "marker": {
          "color": "#636efa",
          "pattern": {
           "shape": ""
          }
         },
         "name": "positive",
         "offsetgroup": "positive",
         "orientation": "v",
         "showlegend": true,
         "type": "histogram",
         "x": [
          "Kitsch",
          "Kosette",
          "La Hauteur",
          "SunJoy",
          "Zidian"
         ],
         "xaxis": "x",
         "y": [
          798,
          725,
          206,
          606,
          312
         ],
         "yaxis": "y"
        },
        {
         "alignmentgroup": "True",
         "bingroup": "x",
         "histfunc": "sum",
         "hovertemplate": "Sentiment=negative<br>product_name=%{x}<br>sum of count=%{y}<extra></extra>",
         "legendgroup": "negative",
         "marker": {
          "color": "#EF553B",
          "pattern": {
           "shape": ""
          }
         },
         "name": "negative",
         "offsetgroup": "negative",
         "orientation": "v",
         "showlegend": true,
         "type": "histogram",
         "x": [
          "Kitsch",
          "Kosette",
          "La Hauteur",
          "SunJoy",
          "Zidian"
         ],
         "xaxis": "x",
         "y": [
          98,
          58,
          19,
          52,
          25
         ],
         "yaxis": "y"
        }
       ],
       "layout": {
        "barmode": "group",
        "legend": {
         "title": {
          "text": "Sentiment"
         },
         "tracegroupgap": 0
        },
        "margin": {
         "t": 60
        },
        "template": {
         "data": {
          "bar": [
           {
            "error_x": {
             "color": "#2a3f5f"
            },
            "error_y": {
             "color": "#2a3f5f"
            },
            "marker": {
             "line": {
              "color": "#E5ECF6",
              "width": 0.5
             },
             "pattern": {
              "fillmode": "overlay",
              "size": 10,
              "solidity": 0.2
             }
            },
            "type": "bar"
           }
          ],
          "barpolar": [
           {
            "marker": {
             "line": {
              "color": "#E5ECF6",
              "width": 0.5
             },
             "pattern": {
              "fillmode": "overlay",
              "size": 10,
              "solidity": 0.2
             }
            },
            "type": "barpolar"
           }
          ],
          "carpet": [
           {
            "aaxis": {
             "endlinecolor": "#2a3f5f",
             "gridcolor": "white",
             "linecolor": "white",
             "minorgridcolor": "white",
             "startlinecolor": "#2a3f5f"
            },
            "baxis": {
             "endlinecolor": "#2a3f5f",
             "gridcolor": "white",
             "linecolor": "white",
             "minorgridcolor": "white",
             "startlinecolor": "#2a3f5f"
            },
            "type": "carpet"
           }
          ],
          "choropleth": [
           {
            "colorbar": {
             "outlinewidth": 0,
             "ticks": ""
            },
            "type": "choropleth"
           }
          ],
          "contour": [
           {
            "colorbar": {
             "outlinewidth": 0,
             "ticks": ""
            },
            "colorscale": [
             [
              0,
              "#0d0887"
             ],
             [
              0.1111111111111111,
              "#46039f"
             ],
             [
              0.2222222222222222,
              "#7201a8"
             ],
             [
              0.3333333333333333,
              "#9c179e"
             ],
             [
              0.4444444444444444,
              "#bd3786"
             ],
             [
              0.5555555555555556,
              "#d8576b"
             ],
             [
              0.6666666666666666,
              "#ed7953"
             ],
             [
              0.7777777777777778,
              "#fb9f3a"
             ],
             [
              0.8888888888888888,
              "#fdca26"
             ],
             [
              1,
              "#f0f921"
             ]
            ],
            "type": "contour"
           }
          ],
          "contourcarpet": [
           {
            "colorbar": {
             "outlinewidth": 0,
             "ticks": ""
            },
            "type": "contourcarpet"
           }
          ],
          "heatmap": [
           {
            "colorbar": {
             "outlinewidth": 0,
             "ticks": ""
            },
            "colorscale": [
             [
              0,
              "#0d0887"
             ],
             [
              0.1111111111111111,
              "#46039f"
             ],
             [
              0.2222222222222222,
              "#7201a8"
             ],
             [
              0.3333333333333333,
              "#9c179e"
             ],
             [
              0.4444444444444444,
              "#bd3786"
             ],
             [
              0.5555555555555556,
              "#d8576b"
             ],
             [
              0.6666666666666666,
              "#ed7953"
             ],
             [
              0.7777777777777778,
              "#fb9f3a"
             ],
             [
              0.8888888888888888,
              "#fdca26"
             ],
             [
              1,
              "#f0f921"
             ]
            ],
            "type": "heatmap"
           }
          ],
          "heatmapgl": [
           {
            "colorbar": {
             "outlinewidth": 0,
             "ticks": ""
            },
            "colorscale": [
             [
              0,
              "#0d0887"
             ],
             [
              0.1111111111111111,
              "#46039f"
             ],
             [
              0.2222222222222222,
              "#7201a8"
             ],
             [
              0.3333333333333333,
              "#9c179e"
             ],
             [
              0.4444444444444444,
              "#bd3786"
             ],
             [
              0.5555555555555556,
              "#d8576b"
             ],
             [
              0.6666666666666666,
              "#ed7953"
             ],
             [
              0.7777777777777778,
              "#fb9f3a"
             ],
             [
              0.8888888888888888,
              "#fdca26"
             ],
             [
              1,
              "#f0f921"
             ]
            ],
            "type": "heatmapgl"
           }
          ],
          "histogram": [
           {
            "marker": {
             "pattern": {
              "fillmode": "overlay",
              "size": 10,
              "solidity": 0.2
             }
            },
            "type": "histogram"
           }
          ],
          "histogram2d": [
           {
            "colorbar": {
             "outlinewidth": 0,
             "ticks": ""
            },
            "colorscale": [
             [
              0,
              "#0d0887"
             ],
             [
              0.1111111111111111,
              "#46039f"
             ],
             [
              0.2222222222222222,
              "#7201a8"
             ],
             [
              0.3333333333333333,
              "#9c179e"
             ],
             [
              0.4444444444444444,
              "#bd3786"
             ],
             [
              0.5555555555555556,
              "#d8576b"
             ],
             [
              0.6666666666666666,
              "#ed7953"
             ],
             [
              0.7777777777777778,
              "#fb9f3a"
             ],
             [
              0.8888888888888888,
              "#fdca26"
             ],
             [
              1,
              "#f0f921"
             ]
            ],
            "type": "histogram2d"
           }
          ],
          "histogram2dcontour": [
           {
            "colorbar": {
             "outlinewidth": 0,
             "ticks": ""
            },
            "colorscale": [
             [
              0,
              "#0d0887"
             ],
             [
              0.1111111111111111,
              "#46039f"
             ],
             [
              0.2222222222222222,
              "#7201a8"
             ],
             [
              0.3333333333333333,
              "#9c179e"
             ],
             [
              0.4444444444444444,
              "#bd3786"
             ],
             [
              0.5555555555555556,
              "#d8576b"
             ],
             [
              0.6666666666666666,
              "#ed7953"
             ],
             [
              0.7777777777777778,
              "#fb9f3a"
             ],
             [
              0.8888888888888888,
              "#fdca26"
             ],
             [
              1,
              "#f0f921"
             ]
            ],
            "type": "histogram2dcontour"
           }
          ],
          "mesh3d": [
           {
            "colorbar": {
             "outlinewidth": 0,
             "ticks": ""
            },
            "type": "mesh3d"
           }
          ],
          "parcoords": [
           {
            "line": {
             "colorbar": {
              "outlinewidth": 0,
              "ticks": ""
             }
            },
            "type": "parcoords"
           }
          ],
          "pie": [
           {
            "automargin": true,
            "type": "pie"
           }
          ],
          "scatter": [
           {
            "fillpattern": {
             "fillmode": "overlay",
             "size": 10,
             "solidity": 0.2
            },
            "type": "scatter"
           }
          ],
          "scatter3d": [
           {
            "line": {
             "colorbar": {
              "outlinewidth": 0,
              "ticks": ""
             }
            },
            "marker": {
             "colorbar": {
              "outlinewidth": 0,
              "ticks": ""
             }
            },
            "type": "scatter3d"
           }
          ],
          "scattercarpet": [
           {
            "marker": {
             "colorbar": {
              "outlinewidth": 0,
              "ticks": ""
             }
            },
            "type": "scattercarpet"
           }
          ],
          "scattergeo": [
           {
            "marker": {
             "colorbar": {
              "outlinewidth": 0,
              "ticks": ""
             }
            },
            "type": "scattergeo"
           }
          ],
          "scattergl": [
           {
            "marker": {
             "colorbar": {
              "outlinewidth": 0,
              "ticks": ""
             }
            },
            "type": "scattergl"
           }
          ],
          "scattermapbox": [
           {
            "marker": {
             "colorbar": {
              "outlinewidth": 0,
              "ticks": ""
             }
            },
            "type": "scattermapbox"
           }
          ],
          "scatterpolar": [
           {
            "marker": {
             "colorbar": {
              "outlinewidth": 0,
              "ticks": ""
             }
            },
            "type": "scatterpolar"
           }
          ],
          "scatterpolargl": [
           {
            "marker": {
             "colorbar": {
              "outlinewidth": 0,
              "ticks": ""
             }
            },
            "type": "scatterpolargl"
           }
          ],
          "scatterternary": [
           {
            "marker": {
             "colorbar": {
              "outlinewidth": 0,
              "ticks": ""
             }
            },
            "type": "scatterternary"
           }
          ],
          "surface": [
           {
            "colorbar": {
             "outlinewidth": 0,
             "ticks": ""
            },
            "colorscale": [
             [
              0,
              "#0d0887"
             ],
             [
              0.1111111111111111,
              "#46039f"
             ],
             [
              0.2222222222222222,
              "#7201a8"
             ],
             [
              0.3333333333333333,
              "#9c179e"
             ],
             [
              0.4444444444444444,
              "#bd3786"
             ],
             [
              0.5555555555555556,
              "#d8576b"
             ],
             [
              0.6666666666666666,
              "#ed7953"
             ],
             [
              0.7777777777777778,
              "#fb9f3a"
             ],
             [
              0.8888888888888888,
              "#fdca26"
             ],
             [
              1,
              "#f0f921"
             ]
            ],
            "type": "surface"
           }
          ],
          "table": [
           {
            "cells": {
             "fill": {
              "color": "#EBF0F8"
             },
             "line": {
              "color": "white"
             }
            },
            "header": {
             "fill": {
              "color": "#C8D4E3"
             },
             "line": {
              "color": "white"
             }
            },
            "type": "table"
           }
          ]
         },
         "layout": {
          "annotationdefaults": {
           "arrowcolor": "#2a3f5f",
           "arrowhead": 0,
           "arrowwidth": 1
          },
          "autotypenumbers": "strict",
          "coloraxis": {
           "colorbar": {
            "outlinewidth": 0,
            "ticks": ""
           }
          },
          "colorscale": {
           "diverging": [
            [
             0,
             "#8e0152"
            ],
            [
             0.1,
             "#c51b7d"
            ],
            [
             0.2,
             "#de77ae"
            ],
            [
             0.3,
             "#f1b6da"
            ],
            [
             0.4,
             "#fde0ef"
            ],
            [
             0.5,
             "#f7f7f7"
            ],
            [
             0.6,
             "#e6f5d0"
            ],
            [
             0.7,
             "#b8e186"
            ],
            [
             0.8,
             "#7fbc41"
            ],
            [
             0.9,
             "#4d9221"
            ],
            [
             1,
             "#276419"
            ]
           ],
           "sequential": [
            [
             0,
             "#0d0887"
            ],
            [
             0.1111111111111111,
             "#46039f"
            ],
            [
             0.2222222222222222,
             "#7201a8"
            ],
            [
             0.3333333333333333,
             "#9c179e"
            ],
            [
             0.4444444444444444,
             "#bd3786"
            ],
            [
             0.5555555555555556,
             "#d8576b"
            ],
            [
             0.6666666666666666,
             "#ed7953"
            ],
            [
             0.7777777777777778,
             "#fb9f3a"
            ],
            [
             0.8888888888888888,
             "#fdca26"
            ],
            [
             1,
             "#f0f921"
            ]
           ],
           "sequentialminus": [
            [
             0,
             "#0d0887"
            ],
            [
             0.1111111111111111,
             "#46039f"
            ],
            [
             0.2222222222222222,
             "#7201a8"
            ],
            [
             0.3333333333333333,
             "#9c179e"
            ],
            [
             0.4444444444444444,
             "#bd3786"
            ],
            [
             0.5555555555555556,
             "#d8576b"
            ],
            [
             0.6666666666666666,
             "#ed7953"
            ],
            [
             0.7777777777777778,
             "#fb9f3a"
            ],
            [
             0.8888888888888888,
             "#fdca26"
            ],
            [
             1,
             "#f0f921"
            ]
           ]
          },
          "colorway": [
           "#636efa",
           "#EF553B",
           "#00cc96",
           "#ab63fa",
           "#FFA15A",
           "#19d3f3",
           "#FF6692",
           "#B6E880",
           "#FF97FF",
           "#FECB52"
          ],
          "font": {
           "color": "#2a3f5f"
          },
          "geo": {
           "bgcolor": "white",
           "lakecolor": "white",
           "landcolor": "#E5ECF6",
           "showlakes": true,
           "showland": true,
           "subunitcolor": "white"
          },
          "hoverlabel": {
           "align": "left"
          },
          "hovermode": "closest",
          "mapbox": {
           "style": "light"
          },
          "paper_bgcolor": "white",
          "plot_bgcolor": "#E5ECF6",
          "polar": {
           "angularaxis": {
            "gridcolor": "white",
            "linecolor": "white",
            "ticks": ""
           },
           "bgcolor": "#E5ECF6",
           "radialaxis": {
            "gridcolor": "white",
            "linecolor": "white",
            "ticks": ""
           }
          },
          "scene": {
           "xaxis": {
            "backgroundcolor": "#E5ECF6",
            "gridcolor": "white",
            "gridwidth": 2,
            "linecolor": "white",
            "showbackground": true,
            "ticks": "",
            "zerolinecolor": "white"
           },
           "yaxis": {
            "backgroundcolor": "#E5ECF6",
            "gridcolor": "white",
            "gridwidth": 2,
            "linecolor": "white",
            "showbackground": true,
            "ticks": "",
            "zerolinecolor": "white"
           },
           "zaxis": {
            "backgroundcolor": "#E5ECF6",
            "gridcolor": "white",
            "gridwidth": 2,
            "linecolor": "white",
            "showbackground": true,
            "ticks": "",
            "zerolinecolor": "white"
           }
          },
          "shapedefaults": {
           "line": {
            "color": "#2a3f5f"
           }
          },
          "ternary": {
           "aaxis": {
            "gridcolor": "white",
            "linecolor": "white",
            "ticks": ""
           },
           "baxis": {
            "gridcolor": "white",
            "linecolor": "white",
            "ticks": ""
           },
           "bgcolor": "#E5ECF6",
           "caxis": {
            "gridcolor": "white",
            "linecolor": "white",
            "ticks": ""
           }
          },
          "title": {
           "x": 0.05
          },
          "xaxis": {
           "automargin": true,
           "gridcolor": "white",
           "linecolor": "white",
           "ticks": "",
           "title": {
            "standoff": 15
           },
           "zerolinecolor": "white",
           "zerolinewidth": 2
          },
          "yaxis": {
           "automargin": true,
           "gridcolor": "white",
           "linecolor": "white",
           "ticks": "",
           "title": {
            "standoff": 15
           },
           "zerolinecolor": "white",
           "zerolinewidth": 2
          }
         }
        },
        "xaxis": {
         "anchor": "y",
         "domain": [
          0,
          1
         ],
         "title": {
          "text": "product_name"
         }
        },
        "yaxis": {
         "anchor": "x",
         "domain": [
          0,
          1
         ],
         "title": {
          "text": "sum of count"
         }
        }
       }
      }
     },
     "metadata": {},
     "output_type": "display_data"
    }
   ],
   "source": [
    "fig = px.histogram(sentiment_df, x=\"product_name\", y=\"count\",\n",
    "             color='Sentiment', barmode='group')\n",
    "fig.write_html('sentiment_analysis.html')\n",
    "fig.show()"
   ]
  },
  {
   "cell_type": "code",
   "execution_count": 9,
   "metadata": {},
   "outputs": [],
   "source": [
    "word_count_df = pd.DataFrame(df[df['product_name'].isin(['SunJoy','Kitsch','Kosette','Zidian','La Hauteur'])][['product_name','newReviewText','Sentiment']])"
   ]
  },
  {
   "cell_type": "code",
   "execution_count": 20,
   "metadata": {},
   "outputs": [],
   "source": [
    "word_count_df.to_csv('./data/review_sentiment.tsv',sep='\\t')"
   ]
  }
 ],
 "metadata": {
  "interpreter": {
   "hash": "8c3d4d9970fc5c09c50d9318a9c7fbf4d0159e4b28833276f5678ee22bded273"
  },
  "kernelspec": {
   "display_name": "Python 3.10.5 64-bit",
   "language": "python",
   "name": "python3"
  },
  "language_info": {
   "codemirror_mode": {
    "name": "ipython",
    "version": 3
   },
   "file_extension": ".py",
   "mimetype": "text/x-python",
   "name": "python",
   "nbconvert_exporter": "python",
   "pygments_lexer": "ipython3",
   "version": "3.10.5"
  },
  "orig_nbformat": 4
 },
 "nbformat": 4,
 "nbformat_minor": 2
}
